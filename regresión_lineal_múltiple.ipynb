{
  "nbformat": 4,
  "nbformat_minor": 0,
  "metadata": {
    "colab": {
      "name": "regresión lineal múltiple.ipynb",
      "provenance": []
    },
    "kernelspec": {
      "name": "python3",
      "display_name": "Python 3"
    },
    "language_info": {
      "name": "python"
    }
  },
  "cells": [
    {
      "cell_type": "markdown",
      "metadata": {
        "id": "v2zN2OOi0Kmu"
      },
      "source": [
        "#Implementación y visualización de una regresión lineal múltiple en Python\n",
        "\n",
        "\n",
        "*   Andrea Catalina Fernández Mena \n",
        "*   A01197705\n",
        "\n"
      ]
    },
    {
      "cell_type": "markdown",
      "metadata": {
        "id": "iVmadW200tzk"
      },
      "source": [
        "Utilizaremos la librería Pandas para cargar los datos en un DataFrame."
      ]
    },
    {
      "cell_type": "code",
      "metadata": {
        "id": "FS4wsFQz00GI"
      },
      "source": [
        "\n",
        "import pandas as pd # importa la librería pandas y la asigna a la variable pd"
      ],
      "execution_count": null,
      "outputs": []
    },
    {
      "cell_type": "markdown",
      "metadata": {
        "id": "aTXqAY5403yr"
      },
      "source": [
        "Una vez mandando a llama la librería Pandas, se crea la variable datos_consumo para cargar el archivo con la función read_excel de la librería Pandas:\n",
        "\n"
      ]
    },
    {
      "cell_type": "code",
      "metadata": {
        "id": "oufL_txp07DP"
      },
      "source": [
        "datos_consumo = pd.read_excel('DatosSemana1a4.xlsx') # indicamos el nombre de nuestro archivo a ser leído"
      ],
      "execution_count": null,
      "outputs": []
    },
    {
      "cell_type": "markdown",
      "metadata": {
        "id": "tNfzn_8p1CG1"
      },
      "source": [
        "Posteriormente, se utilizará la función head() para comprobar que los datos se cargaron correctemente en el dataframe viendo los primeros 5 registros:"
      ]
    },
    {
      "cell_type": "code",
      "metadata": {
        "colab": {
          "base_uri": "https://localhost:8080/",
          "height": 324
        },
        "id": "XjItksZn1Ezm",
        "outputId": "ba311411-c5ab-4c0b-f719-8b69fba1a116"
      },
      "source": [
        "\n",
        "datos_consumo.head()"
      ],
      "execution_count": null,
      "outputs": [
        {
          "output_type": "execute_result",
          "data": {
            "text/html": [
              "<div>\n",
              "<style scoped>\n",
              "    .dataframe tbody tr th:only-of-type {\n",
              "        vertical-align: middle;\n",
              "    }\n",
              "\n",
              "    .dataframe tbody tr th {\n",
              "        vertical-align: top;\n",
              "    }\n",
              "\n",
              "    .dataframe thead th {\n",
              "        text-align: right;\n",
              "    }\n",
              "</style>\n",
              "<table border=\"1\" class=\"dataframe\">\n",
              "  <thead>\n",
              "    <tr style=\"text-align: right;\">\n",
              "      <th></th>\n",
              "      <th>Fecha (dd/mm/aa)</th>\n",
              "      <th>Momento</th>\n",
              "      <th>Nombre alimento</th>\n",
              "      <th>Calorías (kcal)</th>\n",
              "      <th>Carbohidratos (g)</th>\n",
              "      <th>Lípidos/grasas (g)</th>\n",
              "      <th>Proteína (g)</th>\n",
              "      <th>Sodio (mg)</th>\n",
              "      <th>Fuente</th>\n",
              "      <th>Unnamed: 9</th>\n",
              "      <th>Unnamed: 10</th>\n",
              "    </tr>\n",
              "  </thead>\n",
              "  <tbody>\n",
              "    <tr>\n",
              "      <th>0</th>\n",
              "      <td>2021-06-28</td>\n",
              "      <td>Desayuno</td>\n",
              "      <td>Melón (1 taza)</td>\n",
              "      <td>53.0</td>\n",
              "      <td>26.97</td>\n",
              "      <td>0.30</td>\n",
              "      <td>1.31</td>\n",
              "      <td>25.0</td>\n",
              "      <td>https://www.fatsecret.com.mx/calor%C3%ADas-nut...</td>\n",
              "      <td></td>\n",
              "      <td>NaN</td>\n",
              "    </tr>\n",
              "    <tr>\n",
              "      <th>1</th>\n",
              "      <td>2021-06-28</td>\n",
              "      <td>Desayuno</td>\n",
              "      <td>Platano</td>\n",
              "      <td>105.0</td>\n",
              "      <td>26.95</td>\n",
              "      <td>0.39</td>\n",
              "      <td>1.29</td>\n",
              "      <td>1.0</td>\n",
              "      <td>https://www.fatsecret.com.mx/calor%C3%ADas-nut...</td>\n",
              "      <td></td>\n",
              "      <td>NaN</td>\n",
              "    </tr>\n",
              "    <tr>\n",
              "      <th>2</th>\n",
              "      <td>2021-06-28</td>\n",
              "      <td>Desayuno</td>\n",
              "      <td>Café con leche</td>\n",
              "      <td>135.0</td>\n",
              "      <td>12.36</td>\n",
              "      <td>5.51</td>\n",
              "      <td>8.81</td>\n",
              "      <td>126.0</td>\n",
              "      <td>https://www.fatsecret.com.mx/calor%C3%ADas-nut...</td>\n",
              "      <td></td>\n",
              "      <td>NaN</td>\n",
              "    </tr>\n",
              "    <tr>\n",
              "      <th>3</th>\n",
              "      <td>2021-06-28</td>\n",
              "      <td>Desayuno</td>\n",
              "      <td>Galletas marav (3)</td>\n",
              "      <td>64.0</td>\n",
              "      <td>11.00</td>\n",
              "      <td>1.75</td>\n",
              "      <td>1.00</td>\n",
              "      <td>80.0</td>\n",
              "      <td>https://www.fatsecret.com.mx/calor%C3%ADas-nut...</td>\n",
              "      <td></td>\n",
              "      <td>NaN</td>\n",
              "    </tr>\n",
              "    <tr>\n",
              "      <th>4</th>\n",
              "      <td>2021-06-28</td>\n",
              "      <td>Comida</td>\n",
              "      <td>Pechuga de pollo</td>\n",
              "      <td>195.0</td>\n",
              "      <td>0.00</td>\n",
              "      <td>7.72</td>\n",
              "      <td>29.55</td>\n",
              "      <td>393.0</td>\n",
              "      <td>https://www.fatsecret.com.mx/calor%C3%ADas-nut...</td>\n",
              "      <td></td>\n",
              "      <td>NaN</td>\n",
              "    </tr>\n",
              "  </tbody>\n",
              "</table>\n",
              "</div>"
            ],
            "text/plain": [
              "  Fecha (dd/mm/aa)   Momento  ... Unnamed: 9  Unnamed: 10\n",
              "0       2021-06-28  Desayuno  ...                     NaN\n",
              "1       2021-06-28  Desayuno  ...                     NaN\n",
              "2       2021-06-28  Desayuno  ...                     NaN\n",
              "3       2021-06-28  Desayuno  ...                     NaN\n",
              "4       2021-06-28   Comida   ...                     NaN\n",
              "\n",
              "[5 rows x 11 columns]"
            ]
          },
          "metadata": {
            "tags": []
          },
          "execution_count": 8
        }
      ]
    },
    {
      "cell_type": "markdown",
      "metadata": {
        "id": "0FbWUcIh1HI8"
      },
      "source": [
        "Una vez hecho esto, se elabora una breve exploración de nuestros datos para ver como se distribuyen:"
      ]
    },
    {
      "cell_type": "code",
      "metadata": {
        "colab": {
          "base_uri": "https://localhost:8080/",
          "height": 220
        },
        "id": "xHgtNIfm1aqr",
        "outputId": "bc8eaa25-a396-4f5f-977c-0b55c7b78c73"
      },
      "source": [
        "datos_consumo.groupby(\"Momento\").count() # con la función groupby agrupamos los\n",
        " #datos de la columna Momento y con count() los contamos para obtener subtotales"
      ],
      "execution_count": null,
      "outputs": [
        {
          "output_type": "execute_result",
          "data": {
            "text/html": [
              "<div>\n",
              "<style scoped>\n",
              "    .dataframe tbody tr th:only-of-type {\n",
              "        vertical-align: middle;\n",
              "    }\n",
              "\n",
              "    .dataframe tbody tr th {\n",
              "        vertical-align: top;\n",
              "    }\n",
              "\n",
              "    .dataframe thead th {\n",
              "        text-align: right;\n",
              "    }\n",
              "</style>\n",
              "<table border=\"1\" class=\"dataframe\">\n",
              "  <thead>\n",
              "    <tr style=\"text-align: right;\">\n",
              "      <th></th>\n",
              "      <th>Fecha (dd/mm/aa)</th>\n",
              "      <th>Nombre alimento</th>\n",
              "      <th>Calorías (kcal)</th>\n",
              "      <th>Carbohidratos (g)</th>\n",
              "      <th>Lípidos/grasas (g)</th>\n",
              "      <th>Proteína (g)</th>\n",
              "      <th>Sodio (mg)</th>\n",
              "      <th>Fuente</th>\n",
              "      <th>Unnamed: 9</th>\n",
              "      <th>Unnamed: 10</th>\n",
              "    </tr>\n",
              "    <tr>\n",
              "      <th>Momento</th>\n",
              "      <th></th>\n",
              "      <th></th>\n",
              "      <th></th>\n",
              "      <th></th>\n",
              "      <th></th>\n",
              "      <th></th>\n",
              "      <th></th>\n",
              "      <th></th>\n",
              "      <th></th>\n",
              "      <th></th>\n",
              "    </tr>\n",
              "  </thead>\n",
              "  <tbody>\n",
              "    <tr>\n",
              "      <th>Cena</th>\n",
              "      <td>65</td>\n",
              "      <td>65</td>\n",
              "      <td>65</td>\n",
              "      <td>65</td>\n",
              "      <td>65</td>\n",
              "      <td>65</td>\n",
              "      <td>65</td>\n",
              "      <td>65</td>\n",
              "      <td>65</td>\n",
              "      <td>0</td>\n",
              "    </tr>\n",
              "    <tr>\n",
              "      <th>Comida</th>\n",
              "      <td>99</td>\n",
              "      <td>99</td>\n",
              "      <td>99</td>\n",
              "      <td>99</td>\n",
              "      <td>99</td>\n",
              "      <td>99</td>\n",
              "      <td>99</td>\n",
              "      <td>99</td>\n",
              "      <td>99</td>\n",
              "      <td>1</td>\n",
              "    </tr>\n",
              "    <tr>\n",
              "      <th>Desayuno</th>\n",
              "      <td>93</td>\n",
              "      <td>93</td>\n",
              "      <td>93</td>\n",
              "      <td>93</td>\n",
              "      <td>93</td>\n",
              "      <td>93</td>\n",
              "      <td>93</td>\n",
              "      <td>93</td>\n",
              "      <td>93</td>\n",
              "      <td>0</td>\n",
              "    </tr>\n",
              "    <tr>\n",
              "      <th>Snack</th>\n",
              "      <td>4</td>\n",
              "      <td>4</td>\n",
              "      <td>4</td>\n",
              "      <td>4</td>\n",
              "      <td>4</td>\n",
              "      <td>4</td>\n",
              "      <td>4</td>\n",
              "      <td>4</td>\n",
              "      <td>4</td>\n",
              "      <td>0</td>\n",
              "    </tr>\n",
              "  </tbody>\n",
              "</table>\n",
              "</div>"
            ],
            "text/plain": [
              "          Fecha (dd/mm/aa)  Nombre alimento  ...  Unnamed: 9  Unnamed: 10\n",
              "Momento                                      ...                         \n",
              "Cena                    65               65  ...          65            0\n",
              "Comida                  99               99  ...          99            1\n",
              "Desayuno                93               93  ...          93            0\n",
              "Snack                    4                4  ...           4            0\n",
              "\n",
              "[4 rows x 10 columns]"
            ]
          },
          "metadata": {
            "tags": []
          },
          "execution_count": 9
        }
      ]
    },
    {
      "cell_type": "markdown",
      "metadata": {
        "id": "baRoMYpN1eTt"
      },
      "source": [
        "Usamos la función describe() para obtener la estadística descriptiva y completar la exploración de nuestros datos:"
      ]
    },
    {
      "cell_type": "code",
      "metadata": {
        "colab": {
          "base_uri": "https://localhost:8080/",
          "height": 295
        },
        "id": "oMRj47W01j6U",
        "outputId": "7774c4c6-a029-4391-829d-83f6210d9e85"
      },
      "source": [
        "\n",
        "datos_consumo.describe()"
      ],
      "execution_count": null,
      "outputs": [
        {
          "output_type": "execute_result",
          "data": {
            "text/html": [
              "<div>\n",
              "<style scoped>\n",
              "    .dataframe tbody tr th:only-of-type {\n",
              "        vertical-align: middle;\n",
              "    }\n",
              "\n",
              "    .dataframe tbody tr th {\n",
              "        vertical-align: top;\n",
              "    }\n",
              "\n",
              "    .dataframe thead th {\n",
              "        text-align: right;\n",
              "    }\n",
              "</style>\n",
              "<table border=\"1\" class=\"dataframe\">\n",
              "  <thead>\n",
              "    <tr style=\"text-align: right;\">\n",
              "      <th></th>\n",
              "      <th>Calorías (kcal)</th>\n",
              "      <th>Carbohidratos (g)</th>\n",
              "      <th>Lípidos/grasas (g)</th>\n",
              "      <th>Proteína (g)</th>\n",
              "      <th>Sodio (mg)</th>\n",
              "    </tr>\n",
              "  </thead>\n",
              "  <tbody>\n",
              "    <tr>\n",
              "      <th>count</th>\n",
              "      <td>261.000000</td>\n",
              "      <td>261.000000</td>\n",
              "      <td>261.000000</td>\n",
              "      <td>261.000000</td>\n",
              "      <td>261.000000</td>\n",
              "    </tr>\n",
              "    <tr>\n",
              "      <th>mean</th>\n",
              "      <td>144.688123</td>\n",
              "      <td>20.342797</td>\n",
              "      <td>4.873755</td>\n",
              "      <td>6.167663</td>\n",
              "      <td>193.717241</td>\n",
              "    </tr>\n",
              "    <tr>\n",
              "      <th>std</th>\n",
              "      <td>144.529582</td>\n",
              "      <td>21.445593</td>\n",
              "      <td>7.756092</td>\n",
              "      <td>8.474819</td>\n",
              "      <td>321.365141</td>\n",
              "    </tr>\n",
              "    <tr>\n",
              "      <th>min</th>\n",
              "      <td>0.000000</td>\n",
              "      <td>0.000000</td>\n",
              "      <td>0.000000</td>\n",
              "      <td>0.000000</td>\n",
              "      <td>0.000000</td>\n",
              "    </tr>\n",
              "    <tr>\n",
              "      <th>25%</th>\n",
              "      <td>64.000000</td>\n",
              "      <td>10.530000</td>\n",
              "      <td>0.300000</td>\n",
              "      <td>1.000000</td>\n",
              "      <td>5.000000</td>\n",
              "    </tr>\n",
              "    <tr>\n",
              "      <th>50%</th>\n",
              "      <td>105.000000</td>\n",
              "      <td>13.000000</td>\n",
              "      <td>1.730000</td>\n",
              "      <td>2.000000</td>\n",
              "      <td>80.000000</td>\n",
              "    </tr>\n",
              "    <tr>\n",
              "      <th>75%</th>\n",
              "      <td>150.000000</td>\n",
              "      <td>26.970000</td>\n",
              "      <td>5.510000</td>\n",
              "      <td>8.810000</td>\n",
              "      <td>155.000000</td>\n",
              "    </tr>\n",
              "    <tr>\n",
              "      <th>max</th>\n",
              "      <td>875.000000</td>\n",
              "      <td>181.500000</td>\n",
              "      <td>40.040000</td>\n",
              "      <td>47.000000</td>\n",
              "      <td>1706.000000</td>\n",
              "    </tr>\n",
              "  </tbody>\n",
              "</table>\n",
              "</div>"
            ],
            "text/plain": [
              "       Calorías (kcal)  Carbohidratos (g)  ...  Proteína (g)   Sodio (mg)\n",
              "count       261.000000         261.000000  ...    261.000000   261.000000\n",
              "mean        144.688123          20.342797  ...      6.167663   193.717241\n",
              "std         144.529582          21.445593  ...      8.474819   321.365141\n",
              "min           0.000000           0.000000  ...      0.000000     0.000000\n",
              "25%          64.000000          10.530000  ...      1.000000     5.000000\n",
              "50%         105.000000          13.000000  ...      2.000000    80.000000\n",
              "75%         150.000000          26.970000  ...      8.810000   155.000000\n",
              "max         875.000000         181.500000  ...     47.000000  1706.000000\n",
              "\n",
              "[8 rows x 5 columns]"
            ]
          },
          "metadata": {
            "tags": []
          },
          "execution_count": 10
        }
      ]
    },
    {
      "cell_type": "markdown",
      "metadata": {
        "id": "IcpwFA1r1mI8"
      },
      "source": [
        "**Posteriormente al analisis de dichos datos desplegados con las funciones de arriba, se procede a la parte de selección de datos**"
      ]
    },
    {
      "cell_type": "markdown",
      "metadata": {
        "id": "CyAVL5sR16WU"
      },
      "source": [
        "Creamos una variable datos para asignarle el DafaFrame que contendrá solo los datos que analizaremos, utilizamos la función iloc[ ] para seleccionar los elementos de acuerdo a su ubicación. Su sintaxis es iloc[<filas>, <columnas>]:"
      ]
    },
    {
      "cell_type": "code",
      "metadata": {
        "colab": {
          "base_uri": "https://localhost:8080/",
          "height": 417
        },
        "id": "ozBoxVPP1-Ca",
        "outputId": "c7ebe81c-0571-46fa-a965-407ef0f8b900"
      },
      "source": [
        "datos_seleccionados = datos_consumo.iloc[:,3:8] # : selecciona todas las filas y 3:8(-1) seleccion columnas de la 4 la 7\n",
        "\n",
        "datos_seleccionados # desplegamos el dataframe"
      ],
      "execution_count": null,
      "outputs": [
        {
          "output_type": "execute_result",
          "data": {
            "text/html": [
              "<div>\n",
              "<style scoped>\n",
              "    .dataframe tbody tr th:only-of-type {\n",
              "        vertical-align: middle;\n",
              "    }\n",
              "\n",
              "    .dataframe tbody tr th {\n",
              "        vertical-align: top;\n",
              "    }\n",
              "\n",
              "    .dataframe thead th {\n",
              "        text-align: right;\n",
              "    }\n",
              "</style>\n",
              "<table border=\"1\" class=\"dataframe\">\n",
              "  <thead>\n",
              "    <tr style=\"text-align: right;\">\n",
              "      <th></th>\n",
              "      <th>Calorías (kcal)</th>\n",
              "      <th>Carbohidratos (g)</th>\n",
              "      <th>Lípidos/grasas (g)</th>\n",
              "      <th>Proteína (g)</th>\n",
              "      <th>Sodio (mg)</th>\n",
              "    </tr>\n",
              "  </thead>\n",
              "  <tbody>\n",
              "    <tr>\n",
              "      <th>0</th>\n",
              "      <td>53.0</td>\n",
              "      <td>26.97</td>\n",
              "      <td>0.30</td>\n",
              "      <td>1.31</td>\n",
              "      <td>25.0</td>\n",
              "    </tr>\n",
              "    <tr>\n",
              "      <th>1</th>\n",
              "      <td>105.0</td>\n",
              "      <td>26.95</td>\n",
              "      <td>0.39</td>\n",
              "      <td>1.29</td>\n",
              "      <td>1.0</td>\n",
              "    </tr>\n",
              "    <tr>\n",
              "      <th>2</th>\n",
              "      <td>135.0</td>\n",
              "      <td>12.36</td>\n",
              "      <td>5.51</td>\n",
              "      <td>8.81</td>\n",
              "      <td>126.0</td>\n",
              "    </tr>\n",
              "    <tr>\n",
              "      <th>3</th>\n",
              "      <td>64.0</td>\n",
              "      <td>11.00</td>\n",
              "      <td>1.75</td>\n",
              "      <td>1.00</td>\n",
              "      <td>80.0</td>\n",
              "    </tr>\n",
              "    <tr>\n",
              "      <th>4</th>\n",
              "      <td>195.0</td>\n",
              "      <td>0.00</td>\n",
              "      <td>7.72</td>\n",
              "      <td>29.55</td>\n",
              "      <td>393.0</td>\n",
              "    </tr>\n",
              "    <tr>\n",
              "      <th>...</th>\n",
              "      <td>...</td>\n",
              "      <td>...</td>\n",
              "      <td>...</td>\n",
              "      <td>...</td>\n",
              "      <td>...</td>\n",
              "    </tr>\n",
              "    <tr>\n",
              "      <th>1048570</th>\n",
              "      <td>NaN</td>\n",
              "      <td>NaN</td>\n",
              "      <td>NaN</td>\n",
              "      <td>NaN</td>\n",
              "      <td>NaN</td>\n",
              "    </tr>\n",
              "    <tr>\n",
              "      <th>1048571</th>\n",
              "      <td>NaN</td>\n",
              "      <td>NaN</td>\n",
              "      <td>NaN</td>\n",
              "      <td>NaN</td>\n",
              "      <td>NaN</td>\n",
              "    </tr>\n",
              "    <tr>\n",
              "      <th>1048572</th>\n",
              "      <td>NaN</td>\n",
              "      <td>NaN</td>\n",
              "      <td>NaN</td>\n",
              "      <td>NaN</td>\n",
              "      <td>NaN</td>\n",
              "    </tr>\n",
              "    <tr>\n",
              "      <th>1048573</th>\n",
              "      <td>NaN</td>\n",
              "      <td>NaN</td>\n",
              "      <td>NaN</td>\n",
              "      <td>NaN</td>\n",
              "      <td>NaN</td>\n",
              "    </tr>\n",
              "    <tr>\n",
              "      <th>1048574</th>\n",
              "      <td>NaN</td>\n",
              "      <td>NaN</td>\n",
              "      <td>NaN</td>\n",
              "      <td>NaN</td>\n",
              "      <td>NaN</td>\n",
              "    </tr>\n",
              "  </tbody>\n",
              "</table>\n",
              "<p>1048575 rows × 5 columns</p>\n",
              "</div>"
            ],
            "text/plain": [
              "         Calorías (kcal)  Carbohidratos (g)  ...  Proteína (g)  Sodio (mg)\n",
              "0                   53.0              26.97  ...          1.31        25.0\n",
              "1                  105.0              26.95  ...          1.29         1.0\n",
              "2                  135.0              12.36  ...          8.81       126.0\n",
              "3                   64.0              11.00  ...          1.00        80.0\n",
              "4                  195.0               0.00  ...         29.55       393.0\n",
              "...                  ...                ...  ...           ...         ...\n",
              "1048570              NaN                NaN  ...           NaN         NaN\n",
              "1048571              NaN                NaN  ...           NaN         NaN\n",
              "1048572              NaN                NaN  ...           NaN         NaN\n",
              "1048573              NaN                NaN  ...           NaN         NaN\n",
              "1048574              NaN                NaN  ...           NaN         NaN\n",
              "\n",
              "[1048575 rows x 5 columns]"
            ]
          },
          "metadata": {
            "tags": []
          },
          "execution_count": 11
        }
      ]
    },
    {
      "cell_type": "markdown",
      "metadata": {
        "id": "Xd83ZW9j2A9b"
      },
      "source": [
        "Con el uso de la función info() vemos la información completa de los datos del nuevo dataframe, ya solo debemos tener los valores numéricos."
      ]
    },
    {
      "cell_type": "code",
      "metadata": {
        "colab": {
          "base_uri": "https://localhost:8080/"
        },
        "id": "WxgGT5k_2Gpc",
        "outputId": "d5cc222d-5559-4583-baa7-1fdbf8cf45d8"
      },
      "source": [
        "\n",
        "datos_seleccionados.info()"
      ],
      "execution_count": null,
      "outputs": [
        {
          "output_type": "stream",
          "text": [
            "<class 'pandas.core.frame.DataFrame'>\n",
            "RangeIndex: 1048575 entries, 0 to 1048574\n",
            "Data columns (total 5 columns):\n",
            " #   Column              Non-Null Count  Dtype  \n",
            "---  ------              --------------  -----  \n",
            " 0   Calorías (kcal)     261 non-null    float64\n",
            " 1   Carbohidratos (g)   261 non-null    float64\n",
            " 2   Lípidos/grasas (g)  261 non-null    float64\n",
            " 3   Proteína (g)        261 non-null    float64\n",
            " 4   Sodio (mg)          261 non-null    float64\n",
            "dtypes: float64(5)\n",
            "memory usage: 40.0 MB\n"
          ],
          "name": "stdout"
        }
      ]
    },
    {
      "cell_type": "markdown",
      "metadata": {
        "id": "rIW6CFfK2I_n"
      },
      "source": [
        "**Una vez que se hace una segregación de los datos, es necesario brincar a la siguiente etapa, la cuál consiste en una limpieza de los mismos**"
      ]
    },
    {
      "cell_type": "markdown",
      "metadata": {
        "id": "cLB7CRGO3eAJ"
      },
      "source": [
        "Previo a proseguir con nuestro proceso, hay que limpiar un poco los datos utilizando las siguientes funciones:"
      ]
    },
    {
      "cell_type": "code",
      "metadata": {
        "colab": {
          "base_uri": "https://localhost:8080/"
        },
        "id": "y773Z-DG3jwV",
        "outputId": "4e81ee78-77b8-44c4-8cd9-55167f411f96"
      },
      "source": [
        "\n",
        "datos_seleccionados.isnull().values.any() # buscamos valores nulos y obtenemos \n",
        "#True o False dependiendo si hay o no\n",
        "\n",
        "dataset = datos_seleccionados.dropna() # creamos un nuevo dataframe descartando \n",
        "#los valores nulos o vacíos de nuestro dataframe datos_seleccionados\n",
        "\n",
        "dataset.isnull().sum() # validamos que no tenemos valores nulos en ninguna \n",
        "#columna, todos deben dar cero"
      ],
      "execution_count": null,
      "outputs": [
        {
          "output_type": "execute_result",
          "data": {
            "text/plain": [
              "Calorías (kcal)       0\n",
              "Carbohidratos (g)     0\n",
              "Lípidos/grasas (g)    0\n",
              "Proteína (g)          0\n",
              "Sodio (mg)            0\n",
              "dtype: int64"
            ]
          },
          "metadata": {
            "tags": []
          },
          "execution_count": 13
        }
      ]
    },
    {
      "cell_type": "markdown",
      "metadata": {
        "id": "5QPRPuJu5WgO"
      },
      "source": [
        "**Una vez realizado lo anterior, se puede proceder a la fase de probar datos**"
      ]
    },
    {
      "cell_type": "markdown",
      "metadata": {
        "id": "uoouuVkF5blk"
      },
      "source": [
        "El siguiente paso es asignar los atributos a las variables en nuestros datos. La variable X contiene los atributos de entrada y la variable y los atributos de salida:"
      ]
    },
    {
      "cell_type": "code",
      "metadata": {
        "id": "RX0Zfgkd5eXA"
      },
      "source": [
        "dataset.columns # vemos los nombres de nuestras columnas para asignarlos a las variables\n",
        "\n",
        "X = dataset[['Carbohidratos (g)', 'Lípidos/grasas (g)', 'Proteína (g)', 'Sodio (mg)']].values # variables independientes\n",
        "\n",
        "y = dataset['Calorías (kcal)'].values # variable dependiente"
      ],
      "execution_count": null,
      "outputs": []
    },
    {
      "cell_type": "markdown",
      "metadata": {
        "id": "3RXlYbhr5gao"
      },
      "source": [
        "Ahora dividimos nuestros datos en un conjunto de entrenamiento (80%) y un conjunto de prueba (20%). Con los datos de entrenamiento realizamos el aprendizaje automático y con los datos de prueba realizamos la validación:"
      ]
    },
    {
      "cell_type": "code",
      "metadata": {
        "id": "Liu7PYTC5jK8",
        "colab": {
          "base_uri": "https://localhost:8080/",
          "height": 197
        },
        "outputId": "33b65773-902c-4545-a98e-53fcf050791a"
      },
      "source": [
        "from sklearn.model_selection import train_test_split # importamos la herramienta para dividir los datos de SciKit-Learn\n",
        "\n",
        "X_train, X_test, y_train, y_test = train_test_split(X, y, test_size=0.2, random_state=0) # asignación de los datos 80% para entrenamiento y 20% para prueba"
      ],
      "execution_count": null,
      "outputs": [
        {
          "output_type": "error",
          "ename": "NameError",
          "evalue": "ignored",
          "traceback": [
            "\u001b[0;31m---------------------------------------------------------------------------\u001b[0m",
            "\u001b[0;31mNameError\u001b[0m                                 Traceback (most recent call last)",
            "\u001b[0;32m<ipython-input-3-87c0259b4e2d>\u001b[0m in \u001b[0;36m<module>\u001b[0;34m()\u001b[0m\n\u001b[1;32m      1\u001b[0m \u001b[0;32mfrom\u001b[0m \u001b[0msklearn\u001b[0m\u001b[0;34m.\u001b[0m\u001b[0mmodel_selection\u001b[0m \u001b[0;32mimport\u001b[0m \u001b[0mtrain_test_split\u001b[0m \u001b[0;31m# importamos la herramienta para dividir los datos de SciKit-Learn\u001b[0m\u001b[0;34m\u001b[0m\u001b[0;34m\u001b[0m\u001b[0m\n\u001b[1;32m      2\u001b[0m \u001b[0;34m\u001b[0m\u001b[0m\n\u001b[0;32m----> 3\u001b[0;31m \u001b[0mX_train\u001b[0m\u001b[0;34m,\u001b[0m \u001b[0mX_test\u001b[0m\u001b[0;34m,\u001b[0m \u001b[0my_train\u001b[0m\u001b[0;34m,\u001b[0m \u001b[0my_test\u001b[0m \u001b[0;34m=\u001b[0m \u001b[0mtrain_test_split\u001b[0m\u001b[0;34m(\u001b[0m\u001b[0mX\u001b[0m\u001b[0;34m,\u001b[0m \u001b[0my\u001b[0m\u001b[0;34m,\u001b[0m \u001b[0mtest_size\u001b[0m\u001b[0;34m=\u001b[0m\u001b[0;36m0.2\u001b[0m\u001b[0;34m,\u001b[0m \u001b[0mrandom_state\u001b[0m\u001b[0;34m=\u001b[0m\u001b[0;36m0\u001b[0m\u001b[0;34m)\u001b[0m \u001b[0;31m# asignación de los datos 80% para entrenamiento y 20% para prueba\u001b[0m\u001b[0;34m\u001b[0m\u001b[0;34m\u001b[0m\u001b[0m\n\u001b[0m",
            "\u001b[0;31mNameError\u001b[0m: name 'X' is not defined"
          ]
        }
      ]
    },
    {
      "cell_type": "markdown",
      "metadata": {
        "id": "NtGhDynO5oTL"
      },
      "source": [
        "**Una vez que probamos que los datos son correctos, podemoos proceder a modelarlos**"
      ]
    },
    {
      "cell_type": "markdown",
      "metadata": {
        "id": "IXjYNnC_5vMj"
      },
      "source": [
        "De la librería SciKit-Learn importamos  la clase de regresión lineal y crearemos un objeto de esa clase, que será nuestro modelo de regresión lineal:"
      ]
    },
    {
      "cell_type": "code",
      "metadata": {
        "id": "5uPOqSrP6BGd"
      },
      "source": [
        "from sklearn.linear_model import LinearRegression # importamos la clase de regresión lineal\n",
        "\n",
        "modelo_regresion = LinearRegression() # modelo de regresión"
      ],
      "execution_count": null,
      "outputs": []
    },
    {
      "cell_type": "markdown",
      "metadata": {
        "id": "RlhDQkPw6Dt5"
      },
      "source": [
        "Ya con el modelo, utilizaremos la función fit() para \"ajustar\" el modelo a nuestro conjunto de datos. Esto permite al modelo \"estudiar\" nuestros datos y \"aprender\" de ellos:"
      ]
    },
    {
      "cell_type": "code",
      "metadata": {
        "colab": {
          "base_uri": "https://localhost:8080/"
        },
        "id": "0ID8vxrh7Bcq",
        "outputId": "ab56ad23-aaef-4eec-b500-685533438b15"
      },
      "source": [
        "modelo_regresion.fit(X_train, y_train) # aprendizaje automático con base en nuestros datos"
      ],
      "execution_count": null,
      "outputs": [
        {
          "output_type": "execute_result",
          "data": {
            "text/plain": [
              "LinearRegression(copy_X=True, fit_intercept=True, n_jobs=None, normalize=False)"
            ]
          },
          "metadata": {
            "tags": []
          },
          "execution_count": 18
        }
      ]
    },
    {
      "cell_type": "markdown",
      "metadata": {
        "id": "WgktHreA7D3f"
      },
      "source": [
        "En este punto, el algorítmo ya ha aprendido cuales son los coeficientes de X óptimos para satisfacer el modelo. Para verlos copiamos el siguiente código:"
      ]
    },
    {
      "cell_type": "code",
      "metadata": {
        "colab": {
          "base_uri": "https://localhost:8080/",
          "height": 172
        },
        "id": "V6Z85XCv7Gne",
        "outputId": "ac9c0f22-232e-4865-ee6a-5303a31f49e9"
      },
      "source": [
        "x_columns = ['Carbohidratos (g)', 'Lípidos/grasas (g)', 'Proteína (g)', 'Sodio (mg)']\n",
        "coeff_df = pd.DataFrame(modelo_regresion.coef_, x_columns, columns=['Coeficientes'])\n",
        "coeff_df # despliega los coefientes y sus valores; por cada unidad del coeficente, su \n",
        "#impacto en las calorías será igual a su valor"
      ],
      "execution_count": null,
      "outputs": [
        {
          "output_type": "execute_result",
          "data": {
            "text/html": [
              "<div>\n",
              "<style scoped>\n",
              "    .dataframe tbody tr th:only-of-type {\n",
              "        vertical-align: middle;\n",
              "    }\n",
              "\n",
              "    .dataframe tbody tr th {\n",
              "        vertical-align: top;\n",
              "    }\n",
              "\n",
              "    .dataframe thead th {\n",
              "        text-align: right;\n",
              "    }\n",
              "</style>\n",
              "<table border=\"1\" class=\"dataframe\">\n",
              "  <thead>\n",
              "    <tr style=\"text-align: right;\">\n",
              "      <th></th>\n",
              "      <th>Coeficientes</th>\n",
              "    </tr>\n",
              "  </thead>\n",
              "  <tbody>\n",
              "    <tr>\n",
              "      <th>Carbohidratos (g)</th>\n",
              "      <td>4.007088</td>\n",
              "    </tr>\n",
              "    <tr>\n",
              "      <th>Lípidos/grasas (g)</th>\n",
              "      <td>9.079170</td>\n",
              "    </tr>\n",
              "    <tr>\n",
              "      <th>Proteína (g)</th>\n",
              "      <td>4.176858</td>\n",
              "    </tr>\n",
              "    <tr>\n",
              "      <th>Sodio (mg)</th>\n",
              "      <td>0.000958</td>\n",
              "    </tr>\n",
              "  </tbody>\n",
              "</table>\n",
              "</div>"
            ],
            "text/plain": [
              "                    Coeficientes\n",
              "Carbohidratos (g)       4.007088\n",
              "Lípidos/grasas (g)      9.079170\n",
              "Proteína (g)            4.176858\n",
              "Sodio (mg)              0.000958"
            ]
          },
          "metadata": {
            "tags": []
          },
          "execution_count": 19
        }
      ]
    },
    {
      "cell_type": "markdown",
      "metadata": {
        "id": "oETxjyt27N2T"
      },
      "source": [
        "Vemos los coeficientes de cada variable; en este caso notamos como el Sodío tiene un impacto no significativo en la cantidad de calorías al tener un coeficiente sumamente pequeño. \n",
        "\n",
        "Ahora bien, ya que emos creado nuestro modelo y lo hemos entrenado, es hora de probar el modelo con nuestro conjunto de datos de prueba:"
      ]
    },
    {
      "cell_type": "code",
      "metadata": {
        "id": "ZAXouNud7WsY"
      },
      "source": [
        "y_pred = modelo_regresion.predict(X_test) # probamos nuestro modelo con los valores de prueba"
      ],
      "execution_count": null,
      "outputs": []
    },
    {
      "cell_type": "markdown",
      "metadata": {
        "id": "ZkLCdNqM7ZQB"
      },
      "source": [
        "Revisemos la diferencia entre los valores actuales y los valores de predicción en la comparación, este código será programado para poder observar  25 valores actuales, de predicción y la diferencia en cantidad las calorías calculadas por nuestro modelo:"
      ]
    },
    {
      "cell_type": "code",
      "metadata": {
        "colab": {
          "base_uri": "https://localhost:8080/",
          "height": 819
        },
        "id": "YMLanUE07jus",
        "outputId": "6bbda4c6-8dd8-467e-932d-2d220e866aee"
      },
      "source": [
        "validacion = pd.DataFrame({'Actual': y_test, 'Predicción': y_pred, 'Diferencia': y_test-y_pred }) # creamos un dataframe con los valores actuales y los de predicción\n",
        "\n",
        "muestra_validacion = validacion.head(25) # elegimos una muestra con 25 valores \n",
        "\n",
        "muestra_validacion # desplegamos esos 25 valores "
      ],
      "execution_count": null,
      "outputs": [
        {
          "output_type": "execute_result",
          "data": {
            "text/html": [
              "<div>\n",
              "<style scoped>\n",
              "    .dataframe tbody tr th:only-of-type {\n",
              "        vertical-align: middle;\n",
              "    }\n",
              "\n",
              "    .dataframe tbody tr th {\n",
              "        vertical-align: top;\n",
              "    }\n",
              "\n",
              "    .dataframe thead th {\n",
              "        text-align: right;\n",
              "    }\n",
              "</style>\n",
              "<table border=\"1\" class=\"dataframe\">\n",
              "  <thead>\n",
              "    <tr style=\"text-align: right;\">\n",
              "      <th></th>\n",
              "      <th>Actual</th>\n",
              "      <th>Predicción</th>\n",
              "      <th>Diferencia</th>\n",
              "    </tr>\n",
              "  </thead>\n",
              "  <tbody>\n",
              "    <tr>\n",
              "      <th>0</th>\n",
              "      <td>444.0</td>\n",
              "      <td>436.810689</td>\n",
              "      <td>7.189311</td>\n",
              "    </tr>\n",
              "    <tr>\n",
              "      <th>1</th>\n",
              "      <td>64.0</td>\n",
              "      <td>57.330071</td>\n",
              "      <td>6.669929</td>\n",
              "    </tr>\n",
              "    <tr>\n",
              "      <th>2</th>\n",
              "      <td>58.8</td>\n",
              "      <td>59.783162</td>\n",
              "      <td>-0.983162</td>\n",
              "    </tr>\n",
              "    <tr>\n",
              "      <th>3</th>\n",
              "      <td>367.0</td>\n",
              "      <td>371.198840</td>\n",
              "      <td>-4.198840</td>\n",
              "    </tr>\n",
              "    <tr>\n",
              "      <th>4</th>\n",
              "      <td>74.0</td>\n",
              "      <td>74.393870</td>\n",
              "      <td>-0.393870</td>\n",
              "    </tr>\n",
              "    <tr>\n",
              "      <th>5</th>\n",
              "      <td>107.0</td>\n",
              "      <td>113.105929</td>\n",
              "      <td>-6.105929</td>\n",
              "    </tr>\n",
              "    <tr>\n",
              "      <th>6</th>\n",
              "      <td>277.0</td>\n",
              "      <td>276.881963</td>\n",
              "      <td>0.118037</td>\n",
              "    </tr>\n",
              "    <tr>\n",
              "      <th>7</th>\n",
              "      <td>53.0</td>\n",
              "      <td>109.400601</td>\n",
              "      <td>-56.400601</td>\n",
              "    </tr>\n",
              "    <tr>\n",
              "      <th>8</th>\n",
              "      <td>67.0</td>\n",
              "      <td>60.750645</td>\n",
              "      <td>6.249355</td>\n",
              "    </tr>\n",
              "    <tr>\n",
              "      <th>9</th>\n",
              "      <td>53.0</td>\n",
              "      <td>109.400601</td>\n",
              "      <td>-56.400601</td>\n",
              "    </tr>\n",
              "    <tr>\n",
              "      <th>10</th>\n",
              "      <td>67.0</td>\n",
              "      <td>60.750645</td>\n",
              "      <td>6.249355</td>\n",
              "    </tr>\n",
              "    <tr>\n",
              "      <th>11</th>\n",
              "      <td>22.0</td>\n",
              "      <td>19.210755</td>\n",
              "      <td>2.789245</td>\n",
              "    </tr>\n",
              "    <tr>\n",
              "      <th>12</th>\n",
              "      <td>0.0</td>\n",
              "      <td>-6.886126</td>\n",
              "      <td>6.886126</td>\n",
              "    </tr>\n",
              "    <tr>\n",
              "      <th>13</th>\n",
              "      <td>69.0</td>\n",
              "      <td>65.355746</td>\n",
              "      <td>3.644254</td>\n",
              "    </tr>\n",
              "    <tr>\n",
              "      <th>14</th>\n",
              "      <td>95.0</td>\n",
              "      <td>93.528319</td>\n",
              "      <td>1.471681</td>\n",
              "    </tr>\n",
              "    <tr>\n",
              "      <th>15</th>\n",
              "      <td>64.0</td>\n",
              "      <td>57.330071</td>\n",
              "      <td>6.669929</td>\n",
              "    </tr>\n",
              "    <tr>\n",
              "      <th>16</th>\n",
              "      <td>119.0</td>\n",
              "      <td>124.241267</td>\n",
              "      <td>-5.241267</td>\n",
              "    </tr>\n",
              "    <tr>\n",
              "      <th>17</th>\n",
              "      <td>69.0</td>\n",
              "      <td>66.400962</td>\n",
              "      <td>2.599038</td>\n",
              "    </tr>\n",
              "    <tr>\n",
              "      <th>18</th>\n",
              "      <td>668.0</td>\n",
              "      <td>668.462475</td>\n",
              "      <td>-0.462475</td>\n",
              "    </tr>\n",
              "    <tr>\n",
              "      <th>19</th>\n",
              "      <td>64.0</td>\n",
              "      <td>57.330071</td>\n",
              "      <td>6.669929</td>\n",
              "    </tr>\n",
              "    <tr>\n",
              "      <th>20</th>\n",
              "      <td>149.0</td>\n",
              "      <td>142.002132</td>\n",
              "      <td>6.997868</td>\n",
              "    </tr>\n",
              "    <tr>\n",
              "      <th>21</th>\n",
              "      <td>5.0</td>\n",
              "      <td>-1.667465</td>\n",
              "      <td>6.667465</td>\n",
              "    </tr>\n",
              "    <tr>\n",
              "      <th>22</th>\n",
              "      <td>444.0</td>\n",
              "      <td>436.810689</td>\n",
              "      <td>7.189311</td>\n",
              "    </tr>\n",
              "    <tr>\n",
              "      <th>23</th>\n",
              "      <td>67.0</td>\n",
              "      <td>60.750645</td>\n",
              "      <td>6.249355</td>\n",
              "    </tr>\n",
              "    <tr>\n",
              "      <th>24</th>\n",
              "      <td>5.0</td>\n",
              "      <td>-1.667465</td>\n",
              "      <td>6.667465</td>\n",
              "    </tr>\n",
              "  </tbody>\n",
              "</table>\n",
              "</div>"
            ],
            "text/plain": [
              "    Actual  Predicción  Diferencia\n",
              "0    444.0  436.810689    7.189311\n",
              "1     64.0   57.330071    6.669929\n",
              "2     58.8   59.783162   -0.983162\n",
              "3    367.0  371.198840   -4.198840\n",
              "4     74.0   74.393870   -0.393870\n",
              "5    107.0  113.105929   -6.105929\n",
              "6    277.0  276.881963    0.118037\n",
              "7     53.0  109.400601  -56.400601\n",
              "8     67.0   60.750645    6.249355\n",
              "9     53.0  109.400601  -56.400601\n",
              "10    67.0   60.750645    6.249355\n",
              "11    22.0   19.210755    2.789245\n",
              "12     0.0   -6.886126    6.886126\n",
              "13    69.0   65.355746    3.644254\n",
              "14    95.0   93.528319    1.471681\n",
              "15    64.0   57.330071    6.669929\n",
              "16   119.0  124.241267   -5.241267\n",
              "17    69.0   66.400962    2.599038\n",
              "18   668.0  668.462475   -0.462475\n",
              "19    64.0   57.330071    6.669929\n",
              "20   149.0  142.002132    6.997868\n",
              "21     5.0   -1.667465    6.667465\n",
              "22   444.0  436.810689    7.189311\n",
              "23    67.0   60.750645    6.249355\n",
              "24     5.0   -1.667465    6.667465"
            ]
          },
          "metadata": {
            "tags": []
          },
          "execution_count": 21
        }
      ]
    },
    {
      "cell_type": "markdown",
      "metadata": {
        "id": "_gq-mXXl7mYw"
      },
      "source": [
        "Usamos la función describe() para obtener la estadística descriptiva de la columna Diferencia:"
      ]
    },
    {
      "cell_type": "code",
      "metadata": {
        "colab": {
          "base_uri": "https://localhost:8080/"
        },
        "id": "HGhBe2ke7qQ2",
        "outputId": "830f05f0-012c-49f9-ac68-a68c322eb009"
      },
      "source": [
        "validacion[\"Diferencia\"].describe()"
      ],
      "execution_count": null,
      "outputs": [
        {
          "output_type": "execute_result",
          "data": {
            "text/plain": [
              "count    53.000000\n",
              "mean     -0.659957\n",
              "std      16.525142\n",
              "min     -56.400601\n",
              "25%       0.118037\n",
              "50%       5.417274\n",
              "75%       6.667465\n",
              "max       8.569530\n",
              "Name: Diferencia, dtype: float64"
            ]
          },
          "metadata": {
            "tags": []
          },
          "execution_count": 22
        }
      ]
    },
    {
      "cell_type": "markdown",
      "metadata": {
        "id": "hHrOLa9p7uIs"
      },
      "source": [
        "Ahora calcularemos el coeficiente de determinación R2 para comprobar la precisión de nuestro modelo, mientras mayor sea el R2, mejor será el ajuste del modelo a los datos. Nuestro objetivo es un valor lo más cercano a 1 (100%), que nos indica que tanto se ajusta el modelo a nuestros datos, es decir, que porcentaje de calorías explicado por la regresión. "
      ]
    },
    {
      "cell_type": "code",
      "metadata": {
        "colab": {
          "base_uri": "https://localhost:8080/"
        },
        "id": "QPkCgScH7wR9",
        "outputId": "8fb3f811-4fb7-4b57-f6e7-92d8118f2615"
      },
      "source": [
        "\n",
        "from sklearn.metrics import r2_score # importamos la métrica R cuadrada (coeficiente de determinación)\n",
        "\n",
        "r2_score(y_test, y_pred) # ingresamos nuestros valores reales y calculados para obterner la R2"
      ],
      "execution_count": null,
      "outputs": [
        {
          "output_type": "execute_result",
          "data": {
            "text/plain": [
              "0.982527524997535"
            ]
          },
          "metadata": {
            "tags": []
          },
          "execution_count": 23
        }
      ]
    },
    {
      "cell_type": "markdown",
      "metadata": {
        "id": "-bd5DfQN7yui"
      },
      "source": [
        "**En este punto ya cha sido creado con éxito un modelo de regresión lineal multiple, robusto y funcional.**\n",
        "\n",
        "**Ahora bien, para concluir el análisis, será necesario comenzar con la visualización de los datos mismos**"
      ]
    },
    {
      "cell_type": "markdown",
      "metadata": {
        "id": "nXQuXkbK87kZ"
      },
      "source": [
        "Ahora toca realizar los gráficos para la visualización de los datos para hacer la comparación de valores actuales y de predicción y estimar de manera visual que tan preciso o no es nuestro modelo para calcular calorías. \n",
        "Para esto importamos la librería matplotlib, de la cuál, podemos obtener  una predicción bastante acertada al no haber mucha diferencia entre los valores actuales de las calorías y los valores calculados:"
      ]
    },
    {
      "cell_type": "code",
      "metadata": {
        "colab": {
          "base_uri": "https://localhost:8080/",
          "height": 295
        },
        "id": "JtctDNYo89uy",
        "outputId": "509f5cda-1564-45a6-8e02-7034068a0b13"
      },
      "source": [
        "import matplotlib.pyplot as plt # importamos la librería que nos permitirá graficar\n",
        "\n",
        "muestra_validacion.plot.bar(rot=0)  # creamos un gráfico de barras con el dataframe que contiene nuestros datos actuales y de predicción\n",
        "\n",
        "plt.title(\"Comparación de calorías actuales y de predicción\") # indicamos el título del gráfico\n",
        "\n",
        "plt.xlabel(\"Muestra de alimentos\") # indicamos la etiqueta del eje de las x, los alimentos\n",
        "\n",
        "plt.ylabel(\"Cantidad de calorías\") # indicamos la etiqueta del eje de las y, la cantidad de calorías\n",
        "\n",
        "plt.show() # desplegamos el gráfico"
      ],
      "execution_count": null,
      "outputs": [
        {
          "output_type": "display_data",
          "data": {
            "image/png": "[encoded data removed]",
            "text/plain": [
              "<Figure size 432x288 with 1 Axes>"
            ]
          },
          "metadata": {
            "tags": [],
            "needs_background": "light"
          }
        }
      ]
    },
    {
      "cell_type": "markdown",
      "metadata": {
        "id": "rcMkGbM59I95"
      },
      "source": [
        ""
      ]
    }
  ]
}