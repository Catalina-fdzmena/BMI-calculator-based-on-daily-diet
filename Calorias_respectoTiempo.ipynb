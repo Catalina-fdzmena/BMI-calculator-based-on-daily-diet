{
  "nbformat": 4,
  "nbformat_minor": 0,
  "metadata": {
    "colab": {
      "name": "Calorias_respectoTiempo.ipynb",
      "provenance": []
    },
    "kernelspec": {
      "name": "python3",
      "display_name": "Python 3"
    },
    "language_info": {
      "name": "python"
    }
  },
  "cells": [
    {
      "cell_type": "code",
      "metadata": {
        "id": "vyS31UuG-07T"
      },
      "source": [
        ""
      ],
      "execution_count": null,
      "outputs": []
    },
    {
      "cell_type": "markdown",
      "metadata": {
        "id": "JCcYQ93Z-5O6"
      },
      "source": [
        "#Estimar el efecto del consumo calórico en el tiempo\n",
        "\n",
        "\n",
        "*   Andrea Catalina Fernández Mena A01197705\n",
        "*   Catedrático: Ing. David Rivera Rangel\n",
        "\n"
      ]
    },
    {
      "cell_type": "markdown",
      "metadata": {
        "id": "85VC4kZK_t26"
      },
      "source": [
        "Crearemos una celda de código nueva para cada línea de código e iremos escribiendo y corriendo una por una para detectar posibles errores ademas de ver los resultados al ir avanzando:"
      ]
    },
    {
      "cell_type": "code",
      "metadata": {
        "id": "kQktd89JC0Sr"
      },
      "source": [
        "import pandas as pd # importa la librería pandas y la asigna a la variable pd"
      ],
      "execution_count": null,
      "outputs": []
    },
    {
      "cell_type": "markdown",
      "metadata": {
        "id": "yGQBSk0IC2bi"
      },
      "source": [
        "Creamos la variable datos_consumo para cargar el archivo con la función read_excel de la librería Pandas:"
      ]
    },
    {
      "cell_type": "code",
      "metadata": {
        "id": "_1HlyStmC428"
      },
      "source": [
        "\n",
        "datos_consumo = pd.read_excel('DatosSemana1a4.xlsx') # indicamos el nombre de nuestro archivo a ser leído "
      ],
      "execution_count": null,
      "outputs": []
    },
    {
      "cell_type": "markdown",
      "metadata": {
        "id": "G5c_DJK5C695"
      },
      "source": [
        "Usamos la función head() para comprobar que los datos se cargaron correctemente en el dataframe viendo los primeros 5 registros:"
      ]
    },
    {
      "cell_type": "code",
      "metadata": {
        "colab": {
          "base_uri": "https://localhost:8080/",
          "height": 305
        },
        "id": "DpYUhrG_C9n3",
        "outputId": "18b8c54f-f002-4c3d-9a87-c309b919e8af"
      },
      "source": [
        "datos_consumo.head()"
      ],
      "execution_count": null,
      "outputs": [
        {
          "output_type": "execute_result",
          "data": {
            "text/html": [
              "<div>\n",
              "<style scoped>\n",
              "    .dataframe tbody tr th:only-of-type {\n",
              "        vertical-align: middle;\n",
              "    }\n",
              "\n",
              "    .dataframe tbody tr th {\n",
              "        vertical-align: top;\n",
              "    }\n",
              "\n",
              "    .dataframe thead th {\n",
              "        text-align: right;\n",
              "    }\n",
              "</style>\n",
              "<table border=\"1\" class=\"dataframe\">\n",
              "  <thead>\n",
              "    <tr style=\"text-align: right;\">\n",
              "      <th></th>\n",
              "      <th>Fecha (dd/mm/aa)</th>\n",
              "      <th>Momento</th>\n",
              "      <th>Nombre alimento</th>\n",
              "      <th>Calorías (kcal)</th>\n",
              "      <th>Carbohidratos (g)</th>\n",
              "      <th>Lípidos/grasas (g)</th>\n",
              "      <th>Proteína (g)</th>\n",
              "      <th>Sodio (mg)</th>\n",
              "      <th>Fuente</th>\n",
              "      <th>Unnamed: 9</th>\n",
              "      <th>Unnamed: 10</th>\n",
              "    </tr>\n",
              "  </thead>\n",
              "  <tbody>\n",
              "    <tr>\n",
              "      <th>0</th>\n",
              "      <td>2021-06-28</td>\n",
              "      <td>Desayuno</td>\n",
              "      <td>Melón (1 taza)</td>\n",
              "      <td>53.0</td>\n",
              "      <td>26.97</td>\n",
              "      <td>0.30</td>\n",
              "      <td>1.31</td>\n",
              "      <td>25.0</td>\n",
              "      <td>https://www.fatsecret.com.mx/calor%C3%ADas-nut...</td>\n",
              "      <td></td>\n",
              "      <td>NaN</td>\n",
              "    </tr>\n",
              "    <tr>\n",
              "      <th>1</th>\n",
              "      <td>2021-06-28</td>\n",
              "      <td>Desayuno</td>\n",
              "      <td>Platano</td>\n",
              "      <td>105.0</td>\n",
              "      <td>26.95</td>\n",
              "      <td>0.39</td>\n",
              "      <td>1.29</td>\n",
              "      <td>1.0</td>\n",
              "      <td>https://www.fatsecret.com.mx/calor%C3%ADas-nut...</td>\n",
              "      <td></td>\n",
              "      <td>NaN</td>\n",
              "    </tr>\n",
              "    <tr>\n",
              "      <th>2</th>\n",
              "      <td>2021-06-28</td>\n",
              "      <td>Desayuno</td>\n",
              "      <td>Café con leche</td>\n",
              "      <td>135.0</td>\n",
              "      <td>12.36</td>\n",
              "      <td>5.51</td>\n",
              "      <td>8.81</td>\n",
              "      <td>126.0</td>\n",
              "      <td>https://www.fatsecret.com.mx/calor%C3%ADas-nut...</td>\n",
              "      <td></td>\n",
              "      <td>NaN</td>\n",
              "    </tr>\n",
              "    <tr>\n",
              "      <th>3</th>\n",
              "      <td>2021-06-28</td>\n",
              "      <td>Desayuno</td>\n",
              "      <td>Galletas marav (3)</td>\n",
              "      <td>64.0</td>\n",
              "      <td>11.00</td>\n",
              "      <td>1.75</td>\n",
              "      <td>1.00</td>\n",
              "      <td>80.0</td>\n",
              "      <td>https://www.fatsecret.com.mx/calor%C3%ADas-nut...</td>\n",
              "      <td></td>\n",
              "      <td>NaN</td>\n",
              "    </tr>\n",
              "    <tr>\n",
              "      <th>4</th>\n",
              "      <td>2021-06-28</td>\n",
              "      <td>Comida</td>\n",
              "      <td>Pechuga de pollo</td>\n",
              "      <td>195.0</td>\n",
              "      <td>0.00</td>\n",
              "      <td>7.72</td>\n",
              "      <td>29.55</td>\n",
              "      <td>393.0</td>\n",
              "      <td>https://www.fatsecret.com.mx/calor%C3%ADas-nut...</td>\n",
              "      <td></td>\n",
              "      <td>NaN</td>\n",
              "    </tr>\n",
              "  </tbody>\n",
              "</table>\n",
              "</div>"
            ],
            "text/plain": [
              "  Fecha (dd/mm/aa)   Momento  ... Unnamed: 9  Unnamed: 10\n",
              "0       2021-06-28  Desayuno  ...                     NaN\n",
              "1       2021-06-28  Desayuno  ...                     NaN\n",
              "2       2021-06-28  Desayuno  ...                     NaN\n",
              "3       2021-06-28  Desayuno  ...                     NaN\n",
              "4       2021-06-28   Comida   ...                     NaN\n",
              "\n",
              "[5 rows x 11 columns]"
            ]
          },
          "metadata": {
            "tags": []
          },
          "execution_count": 4
        }
      ]
    },
    {
      "cell_type": "markdown",
      "metadata": {
        "id": "YvyUVkskDpvj"
      },
      "source": [
        "Creamos una variable datos para asignarle el DafaFrame que contendrá solo los datos que necesitamos:"
      ]
    },
    {
      "cell_type": "code",
      "metadata": {
        "id": "Kf34z_OZDsnZ"
      },
      "source": [
        "datos = datos_consumo[[\"Fecha (dd/mm/aa)\",\"Calorías (kcal)\"]] # seleccionamos las dos columnas que necesitaremos"
      ],
      "execution_count": null,
      "outputs": []
    },
    {
      "cell_type": "markdown",
      "metadata": {
        "id": "uW_0B4UfDvlY"
      },
      "source": [
        "Usamos la función head() para comprobar que los datos se cargaron correctemente en el dataframe viendo los primeros 5 registros:"
      ]
    },
    {
      "cell_type": "code",
      "metadata": {
        "colab": {
          "base_uri": "https://localhost:8080/",
          "height": 204
        },
        "id": "EYO6YME0DyGU",
        "outputId": "887b6207-cd30-46b7-fc64-eab83e885909"
      },
      "source": [
        "datos.head() # imprimiendo los datos selecccionados"
      ],
      "execution_count": null,
      "outputs": [
        {
          "output_type": "execute_result",
          "data": {
            "text/html": [
              "<div>\n",
              "<style scoped>\n",
              "    .dataframe tbody tr th:only-of-type {\n",
              "        vertical-align: middle;\n",
              "    }\n",
              "\n",
              "    .dataframe tbody tr th {\n",
              "        vertical-align: top;\n",
              "    }\n",
              "\n",
              "    .dataframe thead th {\n",
              "        text-align: right;\n",
              "    }\n",
              "</style>\n",
              "<table border=\"1\" class=\"dataframe\">\n",
              "  <thead>\n",
              "    <tr style=\"text-align: right;\">\n",
              "      <th></th>\n",
              "      <th>Fecha (dd/mm/aa)</th>\n",
              "      <th>Calorías (kcal)</th>\n",
              "    </tr>\n",
              "  </thead>\n",
              "  <tbody>\n",
              "    <tr>\n",
              "      <th>0</th>\n",
              "      <td>2021-06-28</td>\n",
              "      <td>53.0</td>\n",
              "    </tr>\n",
              "    <tr>\n",
              "      <th>1</th>\n",
              "      <td>2021-06-28</td>\n",
              "      <td>105.0</td>\n",
              "    </tr>\n",
              "    <tr>\n",
              "      <th>2</th>\n",
              "      <td>2021-06-28</td>\n",
              "      <td>135.0</td>\n",
              "    </tr>\n",
              "    <tr>\n",
              "      <th>3</th>\n",
              "      <td>2021-06-28</td>\n",
              "      <td>64.0</td>\n",
              "    </tr>\n",
              "    <tr>\n",
              "      <th>4</th>\n",
              "      <td>2021-06-28</td>\n",
              "      <td>195.0</td>\n",
              "    </tr>\n",
              "  </tbody>\n",
              "</table>\n",
              "</div>"
            ],
            "text/plain": [
              "  Fecha (dd/mm/aa)  Calorías (kcal)\n",
              "0       2021-06-28             53.0\n",
              "1       2021-06-28            105.0\n",
              "2       2021-06-28            135.0\n",
              "3       2021-06-28             64.0\n",
              "4       2021-06-28            195.0"
            ]
          },
          "metadata": {
            "tags": []
          },
          "execution_count": 6
        }
      ]
    },
    {
      "cell_type": "markdown",
      "metadata": {
        "id": "gIR03cpcD0N7"
      },
      "source": [
        "Usaremos la función sum() para calcular el total de calorías consumidas:"
      ]
    },
    {
      "cell_type": "code",
      "metadata": {
        "colab": {
          "base_uri": "https://localhost:8080/"
        },
        "id": "awDuJ9RzD2LI",
        "outputId": "736f21cb-b21f-4125-e50c-761535120e6c"
      },
      "source": [
        "suma_calorías = datos[\"Calorías (kcal)\"].sum()\n",
        "suma_calorías # despliega el total de calorias"
      ],
      "execution_count": null,
      "outputs": [
        {
          "output_type": "execute_result",
          "data": {
            "text/plain": [
              "37763.6"
            ]
          },
          "metadata": {
            "tags": []
          },
          "execution_count": 7
        }
      ]
    },
    {
      "cell_type": "markdown",
      "metadata": {
        "id": "7RUsW16wD5ME"
      },
      "source": [
        "Ahora contaremos el total de días diferentes de consumo de calorías con la función nunique():"
      ]
    },
    {
      "cell_type": "code",
      "metadata": {
        "colab": {
          "base_uri": "https://localhost:8080/"
        },
        "id": "2CsfhQeWD_XO",
        "outputId": "e33b39ce-6a41-4c6f-de27-7d3ef26a029f"
      },
      "source": [
        "días = datos[\"Fecha (dd/mm/aa)\"].nunique()\n",
        "días # despliega el total de días unicos"
      ],
      "execution_count": null,
      "outputs": [
        {
          "output_type": "execute_result",
          "data": {
            "text/plain": [
              "25"
            ]
          },
          "metadata": {
            "tags": []
          },
          "execution_count": 8
        }
      ]
    },
    {
      "cell_type": "markdown",
      "metadata": {
        "id": "5N_sNjvgEDIp"
      },
      "source": [
        "Calculamos el promedio de calorías:"
      ]
    },
    {
      "cell_type": "code",
      "metadata": {
        "colab": {
          "base_uri": "https://localhost:8080/"
        },
        "id": "5K10UtxLEG3K",
        "outputId": "0d4de08b-ca43-4c43-939b-317466912507"
      },
      "source": [
        "\n",
        "calorías_promedio = suma_calorías/días # total de calorías consumidas entre el número de días que tomó consumirlas\n",
        "print(\"Tu promedio de calorías consumidas en\", días,\"días es:\", calorías_promedio)"
      ],
      "execution_count": null,
      "outputs": [
        {
          "output_type": "stream",
          "text": [
            "Tu promedio de calorías consumidas en 25 días es: 1510.5439999999999\n"
          ],
          "name": "stdout"
        }
      ]
    },
    {
      "cell_type": "markdown",
      "metadata": {
        "id": "QAQs2bpLEI49"
      },
      "source": [
        "Definimos las variables requeridas para el cálculo en la ecuación, empleamos la función input() para habilitar la captura de datos por el usuario e int() para indicar que las variables son números enteros:"
      ]
    },
    {
      "cell_type": "code",
      "metadata": {
        "colab": {
          "base_uri": "https://localhost:8080/"
        },
        "id": "-e2yMek8ELTb",
        "outputId": "2e099f27-69ad-4810-d619-95b5716d323e"
      },
      "source": [
        "peso = int(input(\"Ingresa tu peso en kilogramos: \"))\n",
        "\n",
        "altura = int(input(\"Ingresa tu altura en centimetros: \"))\n",
        "\n",
        "edad = int(input(\"Ingresa tu edad en años: \"))\n",
        "\n",
        "genero = input(\"Ingresa tu género, Mujer/Hombre: \")"
      ],
      "execution_count": null,
      "outputs": [
        {
          "output_type": "stream",
          "text": [
            "Ingresa tu peso en kilogramos: 52\n",
            "Ingresa tu altura en centimetros: 159\n",
            "Ingresa tu edad en años: 19\n",
            "Ingresa tu género, Mujer/Hombre: Mujer\n"
          ],
          "name": "stdout"
        }
      ]
    },
    {
      "cell_type": "markdown",
      "metadata": {
        "id": "tMYsCEPVEOxa"
      },
      "source": [
        "Con esto,  procedemos a realizar la estimación de calorías requeridas diarias de acuerdo con los datos, utilizando la ecuación de Harris-Benedict:"
      ]
    },
    {
      "cell_type": "code",
      "metadata": {
        "colab": {
          "base_uri": "https://localhost:8080/"
        },
        "id": "jw6KfWutERXl",
        "outputId": "1c86978a-894b-432b-f97f-6ec3dbd1caf1"
      },
      "source": [
        "if(genero == \"Mujer\"):\n",
        "   calorías_requeridas = 655+(9.56*peso)+(1.85*altura)-(4.68*edad) # fórmula para estimar calorías requeridas en mujer\n",
        "\n",
        "elif(genero == \"Hombre\"):\n",
        "  calorías_requeridas = 66.5+(13.75*peso)+(5*altura)-(6.8*edad) # fórmula para estimar calorías requeridas en hombre\n",
        "\n",
        "print(\"Con base en tus datos, tu consumo de calorías al día debe ser de:\", calorías_requeridas)"
      ],
      "execution_count": null,
      "outputs": [
        {
          "output_type": "stream",
          "text": [
            "Con base en tus datos, tu consumo de calorías al día debe ser de: 1357.35\n"
          ],
          "name": "stdout"
        }
      ]
    },
    {
      "cell_type": "markdown",
      "metadata": {
        "id": "HcxHUID1ETfi"
      },
      "source": [
        "Calculamos la diferencia entre las calorías consumidas y las calorías requeridas, esto indicará si tu consumo es mayor, menor o igual:"
      ]
    },
    {
      "cell_type": "code",
      "metadata": {
        "colab": {
          "base_uri": "https://localhost:8080/"
        },
        "id": "ntifwDCJEVXn",
        "outputId": "ddf227ce-fcad-473f-a4a4-4fd5ec72ac34"
      },
      "source": [
        "\n",
        "diferencia = calorías_promedio - calorías_requeridas\n",
        "\n",
        "diferencia"
      ],
      "execution_count": null,
      "outputs": [
        {
          "output_type": "execute_result",
          "data": {
            "text/plain": [
              "153.19399999999996"
            ]
          },
          "metadata": {
            "tags": []
          },
          "execution_count": 12
        }
      ]
    },
    {
      "cell_type": "markdown",
      "metadata": {
        "id": "og3iHnjlEXMu"
      },
      "source": [
        "Por último, usaremos esa diferencia para hacer una aproximación de su efecto en un año si se conoce que 3500 calorías equivalen alrededor de 450 gramos:"
      ]
    },
    {
      "cell_type": "code",
      "metadata": {
        "colab": {
          "base_uri": "https://localhost:8080/"
        },
        "id": "Ylqu2O6_EcWs",
        "outputId": "3c7dd650-9b9e-4225-e23d-c4bdf44f551a"
      },
      "source": [
        "efecto_anual = diferencia * 450/3500 * 365 /1000 # realiza la proporción, se multiplica por 365 (días) y se divide entre 1000 (gramos) para obtener kilogramos\n",
        "\n",
        "print(\"Si continuas con el consumo calórico actual, en un año tu cambio de masa corporal sería aproximadamente de:\",efecto_anual,\"kg\")"
      ],
      "execution_count": null,
      "outputs": [
        {
          "output_type": "stream",
          "text": [
            "Si continuas con el consumo calórico actual, en un año tu cambio de masa corporal sería aproximadamente de: 7.18917557142857 kg\n"
          ],
          "name": "stdout"
        }
      ]
    }
  ]
}